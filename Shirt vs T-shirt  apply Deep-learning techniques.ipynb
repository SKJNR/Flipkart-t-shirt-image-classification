{
 "cells": [
  {
   "cell_type": "markdown",
   "metadata": {},
   "source": [
    "# Importing Libraries"
   ]
  },
  {
   "cell_type": "code",
   "execution_count": 9,
   "metadata": {},
   "outputs": [
    {
     "name": "stdout",
     "output_type": "stream",
     "text": [
      "Requirement already satisfied: keras in g:\\downloads\\programs\\lib\\site-packages (2.4.3)\n",
      "Requirement already satisfied: pyyaml in g:\\downloads\\programs\\lib\\site-packages (from keras) (5.1.2)\n",
      "Requirement already satisfied: scipy>=0.14 in g:\\downloads\\programs\\lib\\site-packages (from keras) (1.4.1)\n",
      "Requirement already satisfied: numpy>=1.9.1 in g:\\downloads\\programs\\lib\\site-packages (from keras) (1.16.5)\n",
      "Requirement already satisfied: h5py in g:\\downloads\\programs\\lib\\site-packages (from keras) (2.9.0)\n",
      "Requirement already satisfied: six in g:\\downloads\\programs\\lib\\site-packages (from h5py->keras) (1.12.0)\n",
      "Note: you may need to restart the kernel to use updated packages.\n"
     ]
    }
   ],
   "source": [
    "pip install keras"
   ]
  },
  {
   "cell_type": "code",
   "execution_count": 10,
   "metadata": {
    "collapsed": true
   },
   "outputs": [
    {
     "name": "stdout",
     "output_type": "stream",
     "text": [
      "Requirement already satisfied: tensorflow in g:\\downloads\\programs\\lib\\site-packages (2.1.0)\n",
      "Requirement already satisfied: wheel>=0.26; python_version >= \"3\" in g:\\downloads\\programs\\lib\\site-packages (from tensorflow) (0.33.6)\n",
      "Requirement already satisfied: numpy<2.0,>=1.16.0 in g:\\downloads\\programs\\lib\\site-packages (from tensorflow) (1.16.5)\n",
      "Requirement already satisfied: tensorboard<2.2.0,>=2.1.0 in g:\\downloads\\programs\\lib\\site-packages (from tensorflow) (2.1.1)\n",
      "Requirement already satisfied: tensorflow-estimator<2.2.0,>=2.1.0rc0 in g:\\downloads\\programs\\lib\\site-packages (from tensorflow) (2.1.0)\n",
      "Requirement already satisfied: scipy==1.4.1; python_version >= \"3\" in g:\\downloads\\programs\\lib\\site-packages (from tensorflow) (1.4.1)\n",
      "Requirement already satisfied: absl-py>=0.7.0 in g:\\downloads\\programs\\lib\\site-packages (from tensorflow) (0.9.0)\n",
      "Requirement already satisfied: termcolor>=1.1.0 in g:\\downloads\\programs\\lib\\site-packages (from tensorflow) (1.1.0)\n",
      "Requirement already satisfied: opt-einsum>=2.3.2 in g:\\downloads\\programs\\lib\\site-packages (from tensorflow) (3.2.1)\n",
      "Requirement already satisfied: protobuf>=3.8.0 in g:\\downloads\\programs\\lib\\site-packages (from tensorflow) (3.12.3)\n",
      "Requirement already satisfied: gast==0.2.2 in g:\\downloads\\programs\\lib\\site-packages (from tensorflow) (0.2.2)\n",
      "Requirement already satisfied: six>=1.12.0 in g:\\downloads\\programs\\lib\\site-packages (from tensorflow) (1.12.0)\n",
      "Requirement already satisfied: keras-preprocessing>=1.1.0 in g:\\downloads\\programs\\lib\\site-packages (from tensorflow) (1.1.0)\n",
      "Requirement already satisfied: google-pasta>=0.1.6 in g:\\downloads\\programs\\lib\\site-packages (from tensorflow) (0.2.0)\n",
      "Requirement already satisfied: astor>=0.6.0 in g:\\downloads\\programs\\lib\\site-packages (from tensorflow) (0.7.1)\n",
      "Requirement already satisfied: keras-applications>=1.0.8 in g:\\downloads\\programs\\lib\\site-packages (from tensorflow) (1.0.8)\n",
      "Requirement already satisfied: wrapt>=1.11.1 in g:\\downloads\\programs\\lib\\site-packages (from tensorflow) (1.11.2)\n",
      "Requirement already satisfied: grpcio>=1.8.6 in g:\\downloads\\programs\\lib\\site-packages (from tensorflow) (1.27.2)\n",
      "Requirement already satisfied: google-auth-oauthlib<0.5,>=0.4.1 in g:\\downloads\\programs\\lib\\site-packages (from tensorboard<2.2.0,>=2.1.0->tensorflow) (0.4.1)\n",
      "Requirement already satisfied: markdown>=2.6.8 in g:\\downloads\\programs\\lib\\site-packages (from tensorboard<2.2.0,>=2.1.0->tensorflow) (3.2.2)\n",
      "Requirement already satisfied: requests<3,>=2.21.0 in g:\\downloads\\programs\\lib\\site-packages (from tensorboard<2.2.0,>=2.1.0->tensorflow) (2.22.0)\n",
      "Requirement already satisfied: setuptools>=41.0.0 in g:\\downloads\\programs\\lib\\site-packages (from tensorboard<2.2.0,>=2.1.0->tensorflow) (41.4.0)\n",
      "Requirement already satisfied: google-auth<2,>=1.6.3 in g:\\downloads\\programs\\lib\\site-packages (from tensorboard<2.2.0,>=2.1.0->tensorflow) (1.17.2)\n",
      "Requirement already satisfied: werkzeug>=0.11.15 in g:\\downloads\\programs\\lib\\site-packages (from tensorboard<2.2.0,>=2.1.0->tensorflow) (0.16.0)\n",
      "Requirement already satisfied: h5py in g:\\downloads\\programs\\lib\\site-packages (from keras-applications>=1.0.8->tensorflow) (2.9.0)\n",
      "Requirement already satisfied: requests-oauthlib>=0.7.0 in g:\\downloads\\programs\\lib\\site-packages (from google-auth-oauthlib<0.5,>=0.4.1->tensorboard<2.2.0,>=2.1.0->tensorflow) (1.2.0)\n",
      "Requirement already satisfied: importlib-metadata; python_version < \"3.8\" in g:\\downloads\\programs\\lib\\site-packages (from markdown>=2.6.8->tensorboard<2.2.0,>=2.1.0->tensorflow) (1.6.1)\n",
      "Requirement already satisfied: certifi>=2017.4.17 in g:\\downloads\\programs\\lib\\site-packages (from requests<3,>=2.21.0->tensorboard<2.2.0,>=2.1.0->tensorflow) (2019.9.11)\n",
      "Requirement already satisfied: idna<2.9,>=2.5 in g:\\downloads\\programs\\lib\\site-packages (from requests<3,>=2.21.0->tensorboard<2.2.0,>=2.1.0->tensorflow) (2.8)\n",
      "Requirement already satisfied: urllib3!=1.25.0,!=1.25.1,<1.26,>=1.21.1 in g:\\downloads\\programs\\lib\\site-packages (from requests<3,>=2.21.0->tensorboard<2.2.0,>=2.1.0->tensorflow) (1.24.2)\n",
      "Requirement already satisfied: chardet<3.1.0,>=3.0.2 in g:\\downloads\\programs\\lib\\site-packages (from requests<3,>=2.21.0->tensorboard<2.2.0,>=2.1.0->tensorflow) (3.0.4)\n",
      "Requirement already satisfied: rsa<5,>=3.1.4; python_version >= \"3\" in g:\\downloads\\programs\\lib\\site-packages (from google-auth<2,>=1.6.3->tensorboard<2.2.0,>=2.1.0->tensorflow) (4.6)\n",
      "Requirement already satisfied: cachetools<5.0,>=2.0.0 in g:\\downloads\\programs\\lib\\site-packages (from google-auth<2,>=1.6.3->tensorboard<2.2.0,>=2.1.0->tensorflow) (4.1.0)\n",
      "Requirement already satisfied: pyasn1-modules>=0.2.1 in g:\\downloads\\programs\\lib\\site-packages (from google-auth<2,>=1.6.3->tensorboard<2.2.0,>=2.1.0->tensorflow) (0.2.7)\n",
      "Requirement already satisfied: oauthlib>=3.0.0 in g:\\downloads\\programs\\lib\\site-packages (from requests-oauthlib>=0.7.0->google-auth-oauthlib<0.5,>=0.4.1->tensorboard<2.2.0,>=2.1.0->tensorflow) (3.0.1)\n",
      "Requirement already satisfied: zipp>=0.5 in g:\\downloads\\programs\\lib\\site-packages (from importlib-metadata; python_version < \"3.8\"->markdown>=2.6.8->tensorboard<2.2.0,>=2.1.0->tensorflow) (0.6.0)\n",
      "Requirement already satisfied: pyasn1>=0.1.3 in g:\\downloads\\programs\\lib\\site-packages (from rsa<5,>=3.1.4; python_version >= \"3\"->google-auth<2,>=1.6.3->tensorboard<2.2.0,>=2.1.0->tensorflow) (0.4.8)\n",
      "Requirement already satisfied: more-itertools in g:\\downloads\\programs\\lib\\site-packages (from zipp>=0.5->importlib-metadata; python_version < \"3.8\"->markdown>=2.6.8->tensorboard<2.2.0,>=2.1.0->tensorflow) (7.2.0)\n",
      "Note: you may need to restart the kernel to use updated packages.\n"
     ]
    }
   ],
   "source": [
    "pip install tensorflow"
   ]
  },
  {
   "cell_type": "code",
   "execution_count": 38,
   "metadata": {},
   "outputs": [
    {
     "data": {
      "text/plain": [
       "'C:\\\\Users\\\\HP'"
      ]
     },
     "execution_count": 38,
     "metadata": {},
     "output_type": "execute_result"
    }
   ],
   "source": [
    "import numpy as np\n",
    "import tensorflow as tf\n",
    "from tensorflow import keras\n",
    "import scipy\n",
    "import os\n",
    "os.getcwd()"
   ]
  },
  {
   "cell_type": "code",
   "execution_count": 20,
   "metadata": {},
   "outputs": [],
   "source": [
    "from tensorflow.keras.models import Sequential\n",
    "from tensorflow.keras.layers import Dense, Conv2D, Flatten, Dropout, MaxPooling2D,ZeroPadding2D,Activation\n",
    "from tensorflow.keras.preprocessing.image import ImageDataGenerator\n",
    "from tensorflow.keras import optimizers\n",
    "import pylab as pl\n",
    "import os\n",
    "import matplotlib.pyplot as plt\n",
    "%matplotlib inline"
   ]
  },
  {
   "cell_type": "code",
   "execution_count": 17,
   "metadata": {},
   "outputs": [],
   "source": [
    "input_shape=(150,150,3)\n",
    "image_width=150\n",
    "image_height=150\n",
    "nb_train_samples=140\n",
    "nb_validation_samples=20\n",
    "\n",
    "batch_size= 20\n",
    "epochs = 15\n",
    "\n",
    "train_data_dir=\"C:/Users/HP/Desktop/train\"\n",
    "validation_data_dir=\"C:/Users/HP/Desktop/validation\""
   ]
  },
  {
   "cell_type": "code",
   "execution_count": 18,
   "metadata": {},
   "outputs": [
    {
     "name": "stdout",
     "output_type": "stream",
     "text": [
      "Found 139 images belonging to 2 classes.\n",
      "Found 20 images belonging to 2 classes.\n"
     ]
    }
   ],
   "source": [
    "#Rescale the pixels values from [0,255] to [0,1] interval\n",
    "datagen=ImageDataGenerator(rescale=1./255)\n",
    "\n",
    "#automatically retrieves images and their classes for train and validation sets\n",
    "train_generator=datagen.flow_from_directory(\n",
    "                    train_data_dir,\n",
    "                    target_size=(image_width,image_height),\n",
    "                     batch_size=16 ,class_mode='binary')\n",
    "\n",
    "validation_generator=datagen.flow_from_directory(\n",
    "                    validation_data_dir,\n",
    "                    target_size=(image_width,image_height),\n",
    "                     batch_size=32 ,class_mode='binary')"
   ]
  },
  {
   "cell_type": "markdown",
   "metadata": {},
   "source": [
    "# Creating Model"
   ]
  },
  {
   "cell_type": "code",
   "execution_count": 21,
   "metadata": {},
   "outputs": [
    {
     "name": "stdout",
     "output_type": "stream",
     "text": [
      "Model: \"sequential_1\"\n",
      "_________________________________________________________________\n",
      "Layer (type)                 Output Shape              Param #   \n",
      "=================================================================\n",
      "conv2d_3 (Conv2D)            (None, 148, 148, 32)      896       \n",
      "_________________________________________________________________\n",
      "conv2d_4 (Conv2D)            (None, 146, 146, 64)      18496     \n",
      "_________________________________________________________________\n",
      "max_pooling2d_2 (MaxPooling2 (None, 73, 73, 64)        0         \n",
      "_________________________________________________________________\n",
      "dropout_2 (Dropout)          (None, 73, 73, 64)        0         \n",
      "_________________________________________________________________\n",
      "conv2d_5 (Conv2D)            (None, 71, 71, 64)        36928     \n",
      "_________________________________________________________________\n",
      "max_pooling2d_3 (MaxPooling2 (None, 35, 35, 64)        0         \n",
      "_________________________________________________________________\n",
      "dropout_3 (Dropout)          (None, 35, 35, 64)        0         \n",
      "_________________________________________________________________\n",
      "flatten_1 (Flatten)          (None, 78400)             0         \n",
      "_________________________________________________________________\n",
      "dense_1 (Dense)              (None, 64)                5017664   \n",
      "_________________________________________________________________\n",
      "activation (Activation)      (None, 64)                0         \n",
      "_________________________________________________________________\n",
      "dropout_4 (Dropout)          (None, 64)                0         \n",
      "_________________________________________________________________\n",
      "dense_2 (Dense)              (None, 1)                 65        \n",
      "_________________________________________________________________\n",
      "activation_1 (Activation)    (None, 1)                 0         \n",
      "=================================================================\n",
      "Total params: 5,074,049\n",
      "Trainable params: 5,074,049\n",
      "Non-trainable params: 0\n",
      "_________________________________________________________________\n",
      "None\n"
     ]
    }
   ],
   "source": [
    "model = Sequential()\n",
    "model.add(Conv2D(32, kernel_size=(3, 3),\n",
    "                 activation='relu',\n",
    "                 input_shape=input_shape))\n",
    "model.add(Conv2D(64, (3, 3), activation='relu'))\n",
    "model.add(MaxPooling2D(pool_size=(2, 2)))\n",
    "model.add(Dropout(0.5))\n",
    "model.add(Conv2D(64, (3, 3), activation='relu'))\n",
    "model.add(MaxPooling2D(pool_size=(2, 2)))\n",
    "model.add(Dropout(0.25))\n",
    "model.add(Flatten())\n",
    "model.add(Dense(64))\n",
    "model.add(Activation('relu'))\n",
    "model.add(Dropout(0.5))\n",
    "model.add(Dense(1))\n",
    "model.add(Activation('sigmoid'))\n",
    "print(model.summary())"
   ]
  },
  {
   "cell_type": "code",
   "execution_count": 24,
   "metadata": {},
   "outputs": [],
   "source": [
    "\n",
    "from tensorflow.keras import utils\n",
    "from tensorflow.keras import utils as np_utils\n",
    "model.compile(loss='binary_crossentropy',\n",
    "              optimizer='Adam',\n",
    "              metrics=['accuracy'])\n"
   ]
  },
  {
   "cell_type": "markdown",
   "metadata": {},
   "source": [
    "# Data Augmentation"
   ]
  },
  {
   "cell_type": "code",
   "execution_count": 25,
   "metadata": {},
   "outputs": [
    {
     "name": "stdout",
     "output_type": "stream",
     "text": [
      "Found 139 images belonging to 2 classes.\n"
     ]
    }
   ],
   "source": [
    "\n",
    "train_datagen_augmented=ImageDataGenerator(\n",
    "                        rescale=1./255,shear_range=0.2,zoom_range=0.2,rotation_range=30,\n",
    "                        horizontal_flip=True)\n",
    "\n",
    "\n",
    "train_generator_augmented=train_datagen_augmented.flow_from_directory(\n",
    "                    train_data_dir,\n",
    "                    target_size=(image_width,image_height),\n",
    "                     batch_size=batch_size ,class_mode='binary')"
   ]
  },
  {
   "cell_type": "markdown",
   "metadata": {},
   "source": [
    "# Fitting Model"
   ]
  },
  {
   "cell_type": "code",
   "execution_count": 26,
   "metadata": {},
   "outputs": [
    {
     "name": "stdout",
     "output_type": "stream",
     "text": [
      "WARNING:tensorflow:From <ipython-input-26-509f3a7e4105>:3: Model.fit_generator (from tensorflow.python.keras.engine.training) is deprecated and will be removed in a future version.\n",
      "Instructions for updating:\n",
      "Please use Model.fit, which supports generators.\n",
      "WARNING:tensorflow:sample_weight modes were coerced from\n",
      "  ...\n",
      "    to  \n",
      "  ['...']\n",
      "WARNING:tensorflow:sample_weight modes were coerced from\n",
      "  ...\n",
      "    to  \n",
      "  ['...']\n",
      "Train for 7 steps, validate for 1 steps\n",
      "Epoch 1/15\n",
      "7/7 [==============================] - 17s 2s/step - loss: 1.7281 - accuracy: 0.6168 - val_loss: 0.6947 - val_accuracy: 0.5000\n",
      "Epoch 2/15\n",
      "7/7 [==============================] - 12s 2s/step - loss: 0.6459 - accuracy: 0.6075 - val_loss: 0.6971 - val_accuracy: 0.5000\n",
      "Epoch 3/15\n",
      "7/7 [==============================] - 12s 2s/step - loss: 0.5473 - accuracy: 0.7232 - val_loss: 0.6858 - val_accuracy: 0.5000\n",
      "Epoch 4/15\n",
      "7/7 [==============================] - 12s 2s/step - loss: 0.5298 - accuracy: 0.7500 - val_loss: 0.6852 - val_accuracy: 0.5000\n",
      "Epoch 5/15\n",
      "7/7 [==============================] - 11s 2s/step - loss: 0.5542 - accuracy: 0.7009 - val_loss: 0.6763 - val_accuracy: 0.5500\n",
      "Epoch 6/15\n",
      "7/7 [==============================] - 11s 2s/step - loss: 0.4884 - accuracy: 0.8037 - val_loss: 0.6385 - val_accuracy: 0.6500\n",
      "Epoch 7/15\n",
      "7/7 [==============================] - 11s 2s/step - loss: 0.4354 - accuracy: 0.8037 - val_loss: 0.6253 - val_accuracy: 0.6500\n",
      "Epoch 8/15\n",
      "7/7 [==============================] - 11s 2s/step - loss: 0.3980 - accuracy: 0.8411 - val_loss: 0.5420 - val_accuracy: 0.6500\n",
      "Epoch 9/15\n",
      "7/7 [==============================] - 12s 2s/step - loss: 0.3222 - accuracy: 0.8661 - val_loss: 0.4971 - val_accuracy: 0.7000\n",
      "Epoch 10/15\n",
      "7/7 [==============================] - 11s 2s/step - loss: 0.2939 - accuracy: 0.8692 - val_loss: 0.4555 - val_accuracy: 0.7500\n",
      "Epoch 11/15\n",
      "7/7 [==============================] - 11s 2s/step - loss: 0.1880 - accuracy: 0.8972 - val_loss: 0.3938 - val_accuracy: 0.8500\n",
      "Epoch 12/15\n",
      "7/7 [==============================] - 11s 2s/step - loss: 0.1851 - accuracy: 0.9252 - val_loss: 0.4672 - val_accuracy: 0.7000\n",
      "Epoch 13/15\n",
      "7/7 [==============================] - 12s 2s/step - loss: 0.1278 - accuracy: 0.9439 - val_loss: 0.5513 - val_accuracy: 0.8000\n",
      "Epoch 14/15\n",
      "7/7 [==============================] - 11s 2s/step - loss: 0.1238 - accuracy: 0.9533 - val_loss: 0.3830 - val_accuracy: 0.9000\n",
      "Epoch 15/15\n",
      "7/7 [==============================] - 11s 2s/step - loss: 0.1085 - accuracy: 0.9346 - val_loss: 0.4096 - val_accuracy: 0.8000\n"
     ]
    }
   ],
   "source": [
    "history=model.fit_generator(train_generator,steps_per_epoch=nb_train_samples//batch_size,epochs=epochs,\n",
    "                           validation_data=validation_generator,\n",
    "                            validation_steps=nb_validation_samples//batch_size)"
   ]
  },
  {
   "cell_type": "code",
   "execution_count": 27,
   "metadata": {},
   "outputs": [],
   "source": [
    "history_dict=history.history"
   ]
  },
  {
   "cell_type": "code",
   "execution_count": 28,
   "metadata": {},
   "outputs": [
    {
     "data": {
      "text/plain": [
       "{'loss': [1.5229302388485346,\n",
       "  0.6456720205110924,\n",
       "  0.5473117402621678,\n",
       "  0.5297827763216836,\n",
       "  0.5461381969050826,\n",
       "  0.4774860333059436,\n",
       "  0.42704264248642965,\n",
       "  0.3900688903354039,\n",
       "  0.32221447995730806,\n",
       "  0.2937691832814261,\n",
       "  0.18777950163756577,\n",
       "  0.18586418060498816,\n",
       "  0.12744532901550007,\n",
       "  0.12783071454440323,\n",
       "  0.11275063587840055],\n",
       " 'accuracy': [0.6168224,\n",
       "  0.60747665,\n",
       "  0.72321427,\n",
       "  0.75,\n",
       "  0.7009346,\n",
       "  0.8037383,\n",
       "  0.8037383,\n",
       "  0.8411215,\n",
       "  0.8660714,\n",
       "  0.86915886,\n",
       "  0.89719623,\n",
       "  0.92523366,\n",
       "  0.94392526,\n",
       "  0.95327103,\n",
       "  0.93457943],\n",
       " 'val_loss': [0.6947028040885925,\n",
       "  0.6970612406730652,\n",
       "  0.685752809047699,\n",
       "  0.685234546661377,\n",
       "  0.6762920618057251,\n",
       "  0.6385384202003479,\n",
       "  0.6253437995910645,\n",
       "  0.5419721603393555,\n",
       "  0.4971056878566742,\n",
       "  0.45550546050071716,\n",
       "  0.39379575848579407,\n",
       "  0.46720361709594727,\n",
       "  0.5512588620185852,\n",
       "  0.38298100233078003,\n",
       "  0.40963634848594666],\n",
       " 'val_accuracy': [0.5,\n",
       "  0.5,\n",
       "  0.5,\n",
       "  0.5,\n",
       "  0.55,\n",
       "  0.65,\n",
       "  0.65,\n",
       "  0.65,\n",
       "  0.7,\n",
       "  0.75,\n",
       "  0.85,\n",
       "  0.7,\n",
       "  0.8,\n",
       "  0.9,\n",
       "  0.8]}"
      ]
     },
     "execution_count": 28,
     "metadata": {},
     "output_type": "execute_result"
    }
   ],
   "source": [
    "history_dict"
   ]
  },
  {
   "cell_type": "code",
   "execution_count": 29,
   "metadata": {},
   "outputs": [
    {
     "data": {
      "image/png": "[encoded data removed]",
      "text/plain": [
       "<Figure size 432x288 with 1 Axes>"
      ]
     },
     "metadata": {
      "needs_background": "light"
     },
     "output_type": "display_data"
    }
   ],
   "source": [
    "loss_values=history_dict['loss']\n",
    "val_loss_values=history_dict['val_loss']\n",
    "epochs=range(1,len(loss_values)+1)\n",
    "\n",
    "line1=plt.plot(epochs,val_loss_values,label='Validation/Test Loss')\n",
    "line2=plt.plot(epochs,loss_values,label='Training loss')\n",
    "plt.setp(line1,linewidth=2.0,marker='+',markersize=10.0)\n",
    "plt.setp(line2,linewidth=2.0,marker='4',markersize=10.0)\n",
    "plt.xlabel('Epochs')\n",
    "plt.ylabel('Loss')\n",
    "plt.grid(True)\n",
    "plt.legend()\n",
    "plt.show()"
   ]
  },
  {
   "cell_type": "code",
   "execution_count": 33,
   "metadata": {},
   "outputs": [
    {
     "data": {
      "image/png": "[encoded data removed]",
      "text/plain": [
       "<Figure size 432x288 with 1 Axes>"
      ]
     },
     "metadata": {
      "needs_background": "light"
     },
     "output_type": "display_data"
    }
   ],
   "source": [
    "accuracy=history_dict['accuracy']\n",
    "val_accuracy_values=history_dict['val_accuracy']\n",
    "epochs=range(1,len(accuracy)+1)\n",
    "\n",
    "line1=plt.plot(epochs,val_accuracy_values,label='Validation/Test accuracy')\n",
    "line2=plt.plot(epochs,accuracy,label='Training accuracy')\n",
    "plt.setp(line1,linewidth=2.0,marker='+',markersize=10.0)\n",
    "plt.setp(line2,linewidth=2.0,marker='4',markersize=10.0)\n",
    "plt.xlabel('Epochs')\n",
    "plt.ylabel('Accuracy')\n",
    "plt.grid(True)\n",
    "plt.legend()\n",
    "plt.show()"
   ]
  }
 ],
 "metadata": {
  "kernelspec": {
   "display_name": "Python 3",
   "language": "python",
   "name": "python3"
  },
  "language_info": {
   "codemirror_mode": {
    "name": "ipython",
    "version": 3
   },
   "file_extension": ".py",
   "mimetype": "text/x-python",
   "name": "python",
   "nbconvert_exporter": "python",
   "pygments_lexer": "ipython3",
   "version": "3.7.4"
  }
 },
 "nbformat": 4,
 "nbformat_minor": 2
}
